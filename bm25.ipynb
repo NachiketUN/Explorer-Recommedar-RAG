{
 "cells": [
  {
   "cell_type": "code",
   "execution_count": 1,
   "metadata": {},
   "outputs": [
    {
     "name": "stdout",
     "output_type": "stream",
     "text": [
      "Collecting rank-bm25\n",
      "  Obtaining dependency information for rank-bm25 from https://files.pythonhosted.org/packages/2a/21/f691fb2613100a62b3fa91e9988c991e9ca5b89ea31c0d3152a3210344f9/rank_bm25-0.2.2-py3-none-any.whl.metadata\n",
      "  Downloading rank_bm25-0.2.2-py3-none-any.whl.metadata (3.2 kB)\n",
      "Requirement already satisfied: numpy in /Users/nachiket/anaconda3/lib/python3.11/site-packages (from rank-bm25) (1.24.3)\n",
      "Downloading rank_bm25-0.2.2-py3-none-any.whl (8.6 kB)\n",
      "Installing collected packages: rank-bm25\n",
      "Successfully installed rank-bm25-0.2.2\n"
     ]
    }
   ],
   "source": [
    "! pip install rank-bm25"
   ]
  },
  {
   "cell_type": "code",
   "execution_count": 3,
   "metadata": {},
   "outputs": [],
   "source": [
    "import pickle"
   ]
  },
  {
   "cell_type": "code",
   "execution_count": 4,
   "metadata": {},
   "outputs": [
    {
     "name": "stdout",
     "output_type": "stream",
     "text": [
      "\n",
      "Loaded DataFrame:\n",
      "                       user_id              name  rating  \\\n",
      "0        108973466903602523839        Candi Redd       5   \n",
      "1        113137095513792040022     Paul Gantcher       5   \n",
      "2        105026170218579952045         Rio Abbas       4   \n",
      "3        117177685398357548836     Jaleh Sadeghi       5   \n",
      "4        110026761515345451532  Xavier Fernandez       5   \n",
      "...                        ...               ...     ...   \n",
      "2677856  118021670361489545825       Jaimee Coco       5   \n",
      "2677857  109127362531452145703        Ana Oaxaca       5   \n",
      "2677858  103112817127658876915               S D       5   \n",
      "2677859  112898242233150784696      Seth Terrell       4   \n",
      "2677860  107012186280666655225    Luis Santacruz       5   \n",
      "\n",
      "                                                      text  \\\n",
      "0        Yes 🙌🏽. I got the curry chicken with a number ...   \n",
      "1        Absolutely love this new location. Food tastes...   \n",
      "2        This location just opened and is super clean. ...   \n",
      "3        I am so happy that they open the new location!...   \n",
      "4        Hands down some of the best - this location ju...   \n",
      "...                                                    ...   \n",
      "2677856                                               None   \n",
      "2677857                                               None   \n",
      "2677858                                               None   \n",
      "2677859                                               None   \n",
      "2677860                                               None   \n",
      "\n",
      "                                                      pics  \\\n",
      "0        [{'url': ['https://lh5.googleusercontent.com/p...   \n",
      "1        [{'url': ['https://lh5.googleusercontent.com/p...   \n",
      "2                                                     None   \n",
      "3                                                     None   \n",
      "4                                                     None   \n",
      "...                                                    ...   \n",
      "2677856  [{'url': ['https://lh5.googleusercontent.com/p...   \n",
      "2677857                                               None   \n",
      "2677858                                               None   \n",
      "2677859                                               None   \n",
      "2677860                                               None   \n",
      "\n",
      "                                       gmap_id  \n",
      "0        0x8640c346cda31ecf:0xdccfb2cdf28f02dc  \n",
      "1        0x8640c346cda31ecf:0xdccfb2cdf28f02dc  \n",
      "2        0x8640c346cda31ecf:0xdccfb2cdf28f02dc  \n",
      "3        0x8640c346cda31ecf:0xdccfb2cdf28f02dc  \n",
      "4        0x8640c346cda31ecf:0xdccfb2cdf28f02dc  \n",
      "...                                        ...  \n",
      "2677856  0x8640c01bad70a333:0x9a21d4763ab9353f  \n",
      "2677857  0x8640c01bad70a333:0x9a21d4763ab9353f  \n",
      "2677858  0x8640c01bad70a333:0x9a21d4763ab9353f  \n",
      "2677859  0x8640c01bad70a333:0x9a21d4763ab9353f  \n",
      "2677860  0x8640c01bad70a333:0x9a21d4763ab9353f  \n",
      "\n",
      "[2677861 rows x 6 columns]\n"
     ]
    }
   ],
   "source": [
    "with open('houston_restaurent_reviews.pickle', 'rb') as f:\n",
    "    loaded_df = pickle.load(f)\n",
    "print(\"\\nLoaded DataFrame:\")\n"
   ]
  },
  {
   "cell_type": "code",
   "execution_count": 5,
   "metadata": {},
   "outputs": [
    {
     "data": {
      "text/html": [
       "<div>\n",
       "<style scoped>\n",
       "    .dataframe tbody tr th:only-of-type {\n",
       "        vertical-align: middle;\n",
       "    }\n",
       "\n",
       "    .dataframe tbody tr th {\n",
       "        vertical-align: top;\n",
       "    }\n",
       "\n",
       "    .dataframe thead th {\n",
       "        text-align: right;\n",
       "    }\n",
       "</style>\n",
       "<table border=\"1\" class=\"dataframe\">\n",
       "  <thead>\n",
       "    <tr style=\"text-align: right;\">\n",
       "      <th></th>\n",
       "      <th>user_id</th>\n",
       "      <th>name</th>\n",
       "      <th>rating</th>\n",
       "      <th>text</th>\n",
       "      <th>pics</th>\n",
       "      <th>gmap_id</th>\n",
       "    </tr>\n",
       "  </thead>\n",
       "  <tbody>\n",
       "    <tr>\n",
       "      <th>0</th>\n",
       "      <td>108973466903602523839</td>\n",
       "      <td>Candi Redd</td>\n",
       "      <td>5</td>\n",
       "      <td>Yes 🙌🏽. I got the curry chicken with a number ...</td>\n",
       "      <td>[{'url': ['https://lh5.googleusercontent.com/p...</td>\n",
       "      <td>0x8640c346cda31ecf:0xdccfb2cdf28f02dc</td>\n",
       "    </tr>\n",
       "    <tr>\n",
       "      <th>1</th>\n",
       "      <td>113137095513792040022</td>\n",
       "      <td>Paul Gantcher</td>\n",
       "      <td>5</td>\n",
       "      <td>Absolutely love this new location. Food tastes...</td>\n",
       "      <td>[{'url': ['https://lh5.googleusercontent.com/p...</td>\n",
       "      <td>0x8640c346cda31ecf:0xdccfb2cdf28f02dc</td>\n",
       "    </tr>\n",
       "    <tr>\n",
       "      <th>2</th>\n",
       "      <td>105026170218579952045</td>\n",
       "      <td>Rio Abbas</td>\n",
       "      <td>4</td>\n",
       "      <td>This location just opened and is super clean. ...</td>\n",
       "      <td>None</td>\n",
       "      <td>0x8640c346cda31ecf:0xdccfb2cdf28f02dc</td>\n",
       "    </tr>\n",
       "    <tr>\n",
       "      <th>3</th>\n",
       "      <td>117177685398357548836</td>\n",
       "      <td>Jaleh Sadeghi</td>\n",
       "      <td>5</td>\n",
       "      <td>I am so happy that they open the new location!...</td>\n",
       "      <td>None</td>\n",
       "      <td>0x8640c346cda31ecf:0xdccfb2cdf28f02dc</td>\n",
       "    </tr>\n",
       "    <tr>\n",
       "      <th>4</th>\n",
       "      <td>110026761515345451532</td>\n",
       "      <td>Xavier Fernandez</td>\n",
       "      <td>5</td>\n",
       "      <td>Hands down some of the best - this location ju...</td>\n",
       "      <td>None</td>\n",
       "      <td>0x8640c346cda31ecf:0xdccfb2cdf28f02dc</td>\n",
       "    </tr>\n",
       "  </tbody>\n",
       "</table>\n",
       "</div>"
      ],
      "text/plain": [
       "                 user_id              name  rating  \\\n",
       "0  108973466903602523839        Candi Redd       5   \n",
       "1  113137095513792040022     Paul Gantcher       5   \n",
       "2  105026170218579952045         Rio Abbas       4   \n",
       "3  117177685398357548836     Jaleh Sadeghi       5   \n",
       "4  110026761515345451532  Xavier Fernandez       5   \n",
       "\n",
       "                                                text  \\\n",
       "0  Yes 🙌🏽. I got the curry chicken with a number ...   \n",
       "1  Absolutely love this new location. Food tastes...   \n",
       "2  This location just opened and is super clean. ...   \n",
       "3  I am so happy that they open the new location!...   \n",
       "4  Hands down some of the best - this location ju...   \n",
       "\n",
       "                                                pics  \\\n",
       "0  [{'url': ['https://lh5.googleusercontent.com/p...   \n",
       "1  [{'url': ['https://lh5.googleusercontent.com/p...   \n",
       "2                                               None   \n",
       "3                                               None   \n",
       "4                                               None   \n",
       "\n",
       "                                 gmap_id  \n",
       "0  0x8640c346cda31ecf:0xdccfb2cdf28f02dc  \n",
       "1  0x8640c346cda31ecf:0xdccfb2cdf28f02dc  \n",
       "2  0x8640c346cda31ecf:0xdccfb2cdf28f02dc  \n",
       "3  0x8640c346cda31ecf:0xdccfb2cdf28f02dc  \n",
       "4  0x8640c346cda31ecf:0xdccfb2cdf28f02dc  "
      ]
     },
     "execution_count": 5,
     "metadata": {},
     "output_type": "execute_result"
    }
   ],
   "source": [
    "loaded_df.head()"
   ]
  },
  {
   "cell_type": "code",
   "execution_count": null,
   "metadata": {},
   "outputs": [],
   "source": []
  }
 ],
 "metadata": {
  "kernelspec": {
   "display_name": "base",
   "language": "python",
   "name": "python3"
  },
  "language_info": {
   "codemirror_mode": {
    "name": "ipython",
    "version": 3
   },
   "file_extension": ".py",
   "mimetype": "text/x-python",
   "name": "python",
   "nbconvert_exporter": "python",
   "pygments_lexer": "ipython3",
   "version": "3.11.4"
  }
 },
 "nbformat": 4,
 "nbformat_minor": 2
}
