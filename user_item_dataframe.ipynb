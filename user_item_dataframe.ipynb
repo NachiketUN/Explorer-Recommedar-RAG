{
 "cells": [
  {
   "cell_type": "code",
   "execution_count": null,
   "metadata": {},
   "outputs": [],
   "source": [
    "import pandas as pd\n",
    "import pickle\n"
   ]
  },
  {
   "cell_type": "code",
   "execution_count": null,
   "metadata": {},
   "outputs": [],
   "source": [
    "    \n",
    "doc_data = pd.read_pickle('restaurent_docs.pickle')\n",
    "review_data = pd.read_pickle('houston_restaurent_reviews.pickle')\n",
    "\n",
    "review_data"
   ]
  },
  {
   "cell_type": "code",
   "execution_count": null,
   "metadata": {},
   "outputs": [],
   "source": [
    "from textblob import TextBlob\n",
    "\n",
    "def analyze_sentiment(review):\n",
    "    if review is None:\n",
    "        return 0\n",
    "    blob = TextBlob(review)\n",
    "    return ((1+blob.polarity)*5)/2\n",
    "\n",
    "review_data['sentiment_score'] = review_data['text'].apply(analyze_sentiment)"
   ]
  },
  {
   "cell_type": "code",
   "execution_count": null,
   "metadata": {},
   "outputs": [],
   "source": [
    "def analyze_rating(data):\n",
    "    if data['rating'] is None and data['text'] is None:\n",
    "        return 0\n",
    "    elif data['text'] is None:\n",
    "        return data['rating']\n",
    "    elif data['rating'] is None:\n",
    "        return data['sentiment_score']\n",
    "    else:\n",
    "        return (data['rating']+data['sentiment_score'])/2\n",
    "\n",
    "\n",
    "review_data['rating'] = review_data.apply(analyze_rating, axis=1)\n"
   ]
  },
  {
   "cell_type": "code",
   "execution_count": null,
   "metadata": {},
   "outputs": [],
   "source": [
    "review_data"
   ]
  },
  {
   "cell_type": "code",
   "execution_count": null,
   "metadata": {},
   "outputs": [],
   "source": [
    "print(review_data.head(1))"
   ]
  },
  {
   "cell_type": "code",
   "execution_count": null,
   "metadata": {},
   "outputs": [],
   "source": [
    "user_item_data = review_data.groupby(['user_id', 'gmap_id'])['rating'].mean().reset_index()\n"
   ]
  },
  {
   "cell_type": "code",
   "execution_count": null,
   "metadata": {},
   "outputs": [],
   "source": [
    "print(user_item_data)"
   ]
  },
  {
   "cell_type": "code",
   "execution_count": null,
   "metadata": {},
   "outputs": [],
   "source": [
    "user_item_data.to_pickle('user_item_data.pickle')"
   ]
  }
 ],
 "metadata": {
  "kernelspec": {
   "display_name": "Python 3",
   "language": "python",
   "name": "python3"
  },
  "language_info": {
   "codemirror_mode": {
    "name": "ipython",
    "version": 3
   },
   "file_extension": ".py",
   "mimetype": "text/x-python",
   "name": "python",
   "nbconvert_exporter": "python",
   "pygments_lexer": "ipython3",
   "version": "3.11.5"
  }
 },
 "nbformat": 4,
 "nbformat_minor": 2
}
